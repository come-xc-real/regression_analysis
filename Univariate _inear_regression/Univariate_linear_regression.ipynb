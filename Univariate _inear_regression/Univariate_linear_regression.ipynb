{
 "cells": [
  {
   "cell_type": "code",
   "execution_count": 3,
   "metadata": {
    "collapsed": true
   },
   "outputs": [
    {
     "data": {
      "text/plain": "           x         y\n0   16460.26  24724.89\n1   13422.47  19422.53\n2    9086.73  13441.09\n3    8806.55  13119.05\n4   10828.62  14432.55\n5   11231.48  14392.69\n6    9729.05  12829.45\n7    8622.97  11581.28\n8   19397.89  26674.90\n9   11977.55  18679.52\n10  15158.30  22726.66\n11   9524.04  12990.35\n12  12501.12  17961.45\n13   8717.37  12866.44\n14  11006.61  16305.41\n15   8837.46  13231.11\n16   9477.51  13152.86\n17   9945.52  13821.16\n18  15527.97  19732.86\n19   9627.40  14146.04\n20   9408.48  12607.84\n21  11146.80  14367.55\n22   9679.14  12633.38\n23   8349.21  11758.76\n24   9076.61  13250.22\n25   8323.54  12481.51\n26   9772.07  12857.89\n27   8308.62  10969.41\n28   8192.56  11640.43\n29   9558.29  12931.53\n30   8669.36  11432.10",
      "text/html": "<div>\n<style scoped>\n    .dataframe tbody tr th:only-of-type {\n        vertical-align: middle;\n    }\n\n    .dataframe tbody tr th {\n        vertical-align: top;\n    }\n\n    .dataframe thead th {\n        text-align: right;\n    }\n</style>\n<table border=\"1\" class=\"dataframe\">\n  <thead>\n    <tr style=\"text-align: right;\">\n      <th></th>\n      <th>x</th>\n      <th>y</th>\n    </tr>\n  </thead>\n  <tbody>\n    <tr>\n      <th>0</th>\n      <td>16460.26</td>\n      <td>24724.89</td>\n    </tr>\n    <tr>\n      <th>1</th>\n      <td>13422.47</td>\n      <td>19422.53</td>\n    </tr>\n    <tr>\n      <th>2</th>\n      <td>9086.73</td>\n      <td>13441.09</td>\n    </tr>\n    <tr>\n      <th>3</th>\n      <td>8806.55</td>\n      <td>13119.05</td>\n    </tr>\n    <tr>\n      <th>4</th>\n      <td>10828.62</td>\n      <td>14432.55</td>\n    </tr>\n    <tr>\n      <th>5</th>\n      <td>11231.48</td>\n      <td>14392.69</td>\n    </tr>\n    <tr>\n      <th>6</th>\n      <td>9729.05</td>\n      <td>12829.45</td>\n    </tr>\n    <tr>\n      <th>7</th>\n      <td>8622.97</td>\n      <td>11581.28</td>\n    </tr>\n    <tr>\n      <th>8</th>\n      <td>19397.89</td>\n      <td>26674.90</td>\n    </tr>\n    <tr>\n      <th>9</th>\n      <td>11977.55</td>\n      <td>18679.52</td>\n    </tr>\n    <tr>\n      <th>10</th>\n      <td>15158.30</td>\n      <td>22726.66</td>\n    </tr>\n    <tr>\n      <th>11</th>\n      <td>9524.04</td>\n      <td>12990.35</td>\n    </tr>\n    <tr>\n      <th>12</th>\n      <td>12501.12</td>\n      <td>17961.45</td>\n    </tr>\n    <tr>\n      <th>13</th>\n      <td>8717.37</td>\n      <td>12866.44</td>\n    </tr>\n    <tr>\n      <th>14</th>\n      <td>11006.61</td>\n      <td>16305.41</td>\n    </tr>\n    <tr>\n      <th>15</th>\n      <td>8837.46</td>\n      <td>13231.11</td>\n    </tr>\n    <tr>\n      <th>16</th>\n      <td>9477.51</td>\n      <td>13152.86</td>\n    </tr>\n    <tr>\n      <th>17</th>\n      <td>9945.52</td>\n      <td>13821.16</td>\n    </tr>\n    <tr>\n      <th>18</th>\n      <td>15527.97</td>\n      <td>19732.86</td>\n    </tr>\n    <tr>\n      <th>19</th>\n      <td>9627.40</td>\n      <td>14146.04</td>\n    </tr>\n    <tr>\n      <th>20</th>\n      <td>9408.48</td>\n      <td>12607.84</td>\n    </tr>\n    <tr>\n      <th>21</th>\n      <td>11146.80</td>\n      <td>14367.55</td>\n    </tr>\n    <tr>\n      <th>22</th>\n      <td>9679.14</td>\n      <td>12633.38</td>\n    </tr>\n    <tr>\n      <th>23</th>\n      <td>8349.21</td>\n      <td>11758.76</td>\n    </tr>\n    <tr>\n      <th>24</th>\n      <td>9076.61</td>\n      <td>13250.22</td>\n    </tr>\n    <tr>\n      <th>25</th>\n      <td>8323.54</td>\n      <td>12481.51</td>\n    </tr>\n    <tr>\n      <th>26</th>\n      <td>9772.07</td>\n      <td>12857.89</td>\n    </tr>\n    <tr>\n      <th>27</th>\n      <td>8308.62</td>\n      <td>10969.41</td>\n    </tr>\n    <tr>\n      <th>28</th>\n      <td>8192.56</td>\n      <td>11640.43</td>\n    </tr>\n    <tr>\n      <th>29</th>\n      <td>9558.29</td>\n      <td>12931.53</td>\n    </tr>\n    <tr>\n      <th>30</th>\n      <td>8669.36</td>\n      <td>11432.10</td>\n    </tr>\n  </tbody>\n</table>\n</div>"
     },
     "execution_count": 3,
     "metadata": {},
     "output_type": "execute_result"
    }
   ],
   "source": [
    "import pandas as pd\n",
    "\n",
    "table_0 = pd.read_csv(\"2.8.txt\", sep=\" \")\n",
    "\n",
    "table_0\n"
   ]
  },
  {
   "cell_type": "code",
   "execution_count": 5,
   "outputs": [
    {
     "ename": "ModuleNotFoundError",
     "evalue": "No module named 'matplotlib'",
     "output_type": "error",
     "traceback": [
      "\u001B[1;31m---------------------------------------------------------------------------\u001B[0m",
      "\u001B[1;31mModuleNotFoundError\u001B[0m                       Traceback (most recent call last)",
      "Cell \u001B[1;32mIn[5], line 1\u001B[0m\n\u001B[1;32m----> 1\u001B[0m \u001B[38;5;28;01mimport\u001B[39;00m \u001B[38;5;21;01mmatplotlib\u001B[39;00m\u001B[38;5;21;01m.\u001B[39;00m\u001B[38;5;21;01mpyplot\u001B[39;00m \u001B[38;5;28;01mas\u001B[39;00m \u001B[38;5;21;01mplt\u001B[39;00m\n\u001B[0;32m      2\u001B[0m \u001B[38;5;28;01mimport\u001B[39;00m \u001B[38;5;21;01mnumpy\u001B[39;00m \u001B[38;5;28;01mas\u001B[39;00m \u001B[38;5;21;01mnp\u001B[39;00m\n\u001B[0;32m      4\u001B[0m x \u001B[38;5;241m=\u001B[39m np\u001B[38;5;241m.\u001B[39marray([\u001B[38;5;241m1\u001B[39m, \u001B[38;5;241m2\u001B[39m, \u001B[38;5;241m3\u001B[39m, \u001B[38;5;241m4\u001B[39m, \u001B[38;5;241m5\u001B[39m, \u001B[38;5;241m6\u001B[39m, \u001B[38;5;241m7\u001B[39m, \u001B[38;5;241m8\u001B[39m])\n",
      "\u001B[1;31mModuleNotFoundError\u001B[0m: No module named 'matplotlib'"
     ]
    }
   ],
   "source": [
    "import matplotlib.pyplot as plt\n",
    "import numpy as np\n",
    "\n",
    "x = np.array([1, 2, 3, 4, 5, 6, 7, 8])\n",
    "y = np.array([1, 4, 9, 16, 7, 11, 23, 18])\n",
    "\n",
    "plt.scatter(x, y)\n",
    "plt.show()"
   ],
   "metadata": {
    "collapsed": false
   }
  },
  {
   "cell_type": "code",
   "execution_count": null,
   "outputs": [],
   "source": [],
   "metadata": {
    "collapsed": false
   }
  }
 ],
 "metadata": {
  "kernelspec": {
   "display_name": "Python 3",
   "language": "python",
   "name": "python3"
  },
  "language_info": {
   "codemirror_mode": {
    "name": "ipython",
    "version": 2
   },
   "file_extension": ".py",
   "mimetype": "text/x-python",
   "name": "python",
   "nbconvert_exporter": "python",
   "pygments_lexer": "ipython2",
   "version": "2.7.6"
  }
 },
 "nbformat": 4,
 "nbformat_minor": 0
}
